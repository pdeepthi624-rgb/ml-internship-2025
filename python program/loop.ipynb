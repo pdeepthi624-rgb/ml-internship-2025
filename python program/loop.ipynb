{
 "cells": [
  {
   "cell_type": "code",
   "execution_count": 9,
   "id": "23ae8516-4f53-4f25-8ca6-6ddac165eadb",
   "metadata": {},
   "outputs": [
    {
     "name": "stdout",
     "output_type": "stream",
     "text": [
      "Sending OTP to User 1\n",
      "Sending OTP to User 2\n",
      "Sending OTP to User 3\n",
      "Sending OTP to User 4\n",
      "Sending OTP to User 5\n",
      "Sending OTP to User 6\n",
      "Sending OTP to User 7\n",
      "Sending OTP to User 8\n",
      "Sending OTP to User 9\n",
      "Sending OTP to User 10\n",
      "Sending OTP to User 11\n",
      "Sending OTP to User 12\n",
      "Sending OTP to User 13\n",
      "Sending OTP to User 14\n",
      "Sending OTP to User 15\n",
      "Sending OTP to User 16\n",
      "Sending OTP to User 17\n",
      "Sending OTP to User 18\n",
      "Sending OTP to User 19\n",
      "Sending OTP to User 20\n",
      "Sending OTP to User 21\n",
      "Sending OTP to User 22\n",
      "Sending OTP to User 23\n",
      "Sending OTP to User 24\n",
      "Sending OTP to User 25\n",
      "Sending OTP to User 26\n",
      "Sending OTP to User 27\n",
      "Sending OTP to User 28\n",
      "Sending OTP to User 29\n",
      "Sending OTP to User 30\n",
      "Sending OTP to User 31\n",
      "Sending OTP to User 32\n",
      "Sending OTP to User 33\n",
      "Sending OTP to User 34\n",
      "Sending OTP to User 35\n",
      "Sending OTP to User 36\n",
      "Sending OTP to User 37\n",
      "Sending OTP to User 38\n",
      "Sending OTP to User 39\n",
      "Sending OTP to User 40\n",
      "Sending OTP to User 41\n",
      "Sending OTP to User 42\n",
      "Sending OTP to User 43\n",
      "Sending OTP to User 44\n",
      "Sending OTP to User 45\n",
      "Sending OTP to User 46\n",
      "Sending OTP to User 47\n",
      "Sending OTP to User 48\n",
      "Sending OTP to User 49\n",
      "Sending OTP to User 50\n",
      "Sending OTP to User 51\n",
      "Sending OTP to User 52\n",
      "Sending OTP to User 53\n",
      "Sending OTP to User 54\n",
      "Sending OTP to User 55\n",
      "Sending OTP to User 56\n",
      "Sending OTP to User 57\n",
      "Sending OTP to User 58\n",
      "Sending OTP to User 59\n",
      "Sending OTP to User 60\n",
      "Sending OTP to User 61\n",
      "Sending OTP to User 62\n",
      "Sending OTP to User 63\n",
      "Sending OTP to User 64\n",
      "Sending OTP to User 65\n",
      "Sending OTP to User 66\n",
      "Sending OTP to User 67\n",
      "Sending OTP to User 68\n",
      "Sending OTP to User 69\n",
      "Sending OTP to User 70\n",
      "Sending OTP to User 71\n",
      "Sending OTP to User 72\n",
      "Sending OTP to User 73\n",
      "Sending OTP to User 74\n",
      "Sending OTP to User 75\n",
      "Sending OTP to User 76\n",
      "Sending OTP to User 77\n",
      "Sending OTP to User 78\n",
      "Sending OTP to User 79\n",
      "Sending OTP to User 80\n",
      "Sending OTP to User 81\n",
      "Sending OTP to User 82\n",
      "Sending OTP to User 83\n",
      "Sending OTP to User 84\n",
      "Sending OTP to User 85\n",
      "Sending OTP to User 86\n",
      "Sending OTP to User 87\n",
      "Sending OTP to User 88\n",
      "Sending OTP to User 89\n",
      "Sending OTP to User 90\n",
      "Sending OTP to User 91\n",
      "Sending OTP to User 92\n",
      "Sending OTP to User 93\n",
      "Sending OTP to User 94\n",
      "Sending OTP to User 95\n",
      "Sending OTP to User 96\n",
      "Sending OTP to User 97\n",
      "Sending OTP to User 98\n",
      "Sending OTP to User 99\n",
      "Sending OTP to User 100\n"
     ]
    }
   ],
   "source": [
    "for i in range(1, 101):\n",
    "    print(f\"Sending OTP to User {i}\")"
   ]
  },
  {
   "cell_type": "code",
   "execution_count": 2,
   "id": "84d8fcdc-61b1-46e0-b88e-44ac9c44c16f",
   "metadata": {},
   "outputs": [
    {
     "name": "stdout",
     "output_type": "stream",
     "text": [
      "Welcome to E-Shop\n",
      "1. View Products\n",
      "2. Add to Cart\n",
      "3. Checkout\n",
      "4. Exit\n"
     ]
    },
    {
     "name": "stdin",
     "output_type": "stream",
     "text": [
      "Enter your choice (1-4):  1\n"
     ]
    },
    {
     "name": "stdout",
     "output_type": "stream",
     "text": [
      "You selected: View Products 🛍\n"
     ]
    }
   ],
   "source": [
    "print(\"Welcome to E-Shop\")\n",
    "print(\"1. View Products\")\n",
    "print(\"2. Add to Cart\")\n",
    "print(\"3. Checkout\")\n",
    "print(\"4. Exit\")\n",
    "\n",
    "choice = int(input(\"Enter your choice (1-4): \"))\n",
    "\n",
    "match choice:\n",
    "    case 1:\n",
    "        print(\"You selected: View Products 🛍\")\n",
    "    case 2:\n",
    "        print(\"You selected: Add to Cart 🛒\")\n",
    "    case 3:\n",
    "        print(\"You selected: Checkout 💳\")\n",
    "    case 4:\n",
    "        print(\"Thank you for shopping! 👋\")\n",
    "    case _:\n",
    "        print(\"Invalid choice! Please enter between 1-4.\")"
   ]
  },
  {
   "cell_type": "code",
   "execution_count": 4,
   "id": "d1ec8715-de16-4a69-9ff7-b9bca7168d5b",
   "metadata": {},
   "outputs": [
    {
     "name": "stdout",
     "output_type": "stream",
     "text": [
      "🛒 Welcome to Online Shop 🛒\n",
      "1. Buy Mobile\n",
      "2. Buy Laptop\n",
      "3. Buy Headphones\n",
      "4. Exit\n"
     ]
    },
    {
     "name": "stdin",
     "output_type": "stream",
     "text": [
      "Enter your choice:  3\n"
     ]
    },
    {
     "name": "stdout",
     "output_type": "stream",
     "text": [
      "You selected Headphones 🎧 - Price: ₹2,000\n"
     ]
    }
   ],
   "source": [
    "print(\"🛒 Welcome to Online Shop 🛒\")\n",
    "print(\"1. Buy Mobile\")\n",
    "print(\"2. Buy Laptop\")\n",
    "print(\"3. Buy Headphones\")\n",
    "print(\"4. Exit\")\n",
    "\n",
    "choice = int(input(\"Enter your choice: \"))\n",
    "\n",
    "match choice:\n",
    "    case 1:\n",
    "        print(\"You selected Mobile 📱 - Price: ₹10,000\")\n",
    "    case 2:\n",
    "        print(\"You selected Laptop 💻 - Price: ₹50,000\")\n",
    "    case 3:\n",
    "        print(\"You selected Headphones 🎧 - Price: ₹2,000\")\n",
    "    case 4:\n",
    "        print(\"Thank you for visiting! 👋\")\n",
    "    case _:\n",
    "        print(\"Invalid choice! Please select between 1 to 4.\")"
   ]
  },
  {
   "cell_type": "code",
   "execution_count": 6,
   "id": "105304c6-dbb9-42d1-9322-4810a7113857",
   "metadata": {},
   "outputs": [
    {
     "name": "stdin",
     "output_type": "stream",
     "text": [
      "Enter a name:  rrr\n"
     ]
    },
    {
     "name": "stdout",
     "output_type": "stream",
     "text": [
      "Reversed word: rrr\n",
      "It is a Palindrome ✅\n"
     ]
    }
   ],
   "source": [
    "text = input(\"Enter a name: \")\n",
    "\n",
    "rev = text[::-1]\n",
    "\n",
    "print(\"Reversed word:\", rev)\n",
    "\n",
    "if text == rev:\n",
    "    print(\"It is a Palindrome ✅\")\n",
    "else:\n",
    "    print(\"Not a Palindrome ❌\")"
   ]
  },
  {
   "cell_type": "code",
   "execution_count": 7,
   "id": "5707eaa3-f4e5-4ece-ae35-bff266cf2062",
   "metadata": {},
   "outputs": [
    {
     "name": "stdout",
     "output_type": "stream",
     "text": [
      "Unsorted List: [64, 78, 8, 22, 11]\n",
      "Sorted List: [8, 11, 22, 64, 78]\n"
     ]
    }
   ],
   "source": [
    "numbers = [64, 78, 8, 22, 11]\n",
    "\n",
    "print(\"Unsorted List:\", numbers)\n",
    "\n",
    "n = len(numbers)\n",
    "\n",
    "for i in range(n-1):\n",
    "    for j in range(n-i-1):\n",
    "        if numbers[j] > numbers[j+1]:\n",
    "            # swap\n",
    "            numbers[j], numbers[j+1] = numbers[j+1], numbers[j]\n",
    "\n",
    "print(\"Sorted List:\", numbers)"
   ]
  },
  {
   "cell_type": "code",
   "execution_count": null,
   "id": "bb9a8dd7-c7c9-4155-b997-38de9319a326",
   "metadata": {},
   "outputs": [],
   "source": []
  }
 ],
 "metadata": {
  "kernelspec": {
   "display_name": "Python 3 (ipykernel)",
   "language": "python",
   "name": "python3"
  },
  "language_info": {
   "codemirror_mode": {
    "name": "ipython",
    "version": 3
   },
   "file_extension": ".py",
   "mimetype": "text/x-python",
   "name": "python",
   "nbconvert_exporter": "python",
   "pygments_lexer": "ipython3",
   "version": "3.13.7"
  }
 },
 "nbformat": 4,
 "nbformat_minor": 5
}
