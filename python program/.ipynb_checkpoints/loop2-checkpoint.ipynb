{
 "cells": [
  {
   "cell_type": "code",
   "execution_count": 1,
   "id": "4f7174d9-1e18-4f67-9df9-160bab8bc94d",
   "metadata": {},
   "outputs": [
    {
     "name": "stdout",
     "output_type": "stream",
     "text": [
      "welcome to e-cart\n"
     ]
    },
    {
     "name": "stdin",
     "output_type": "stream",
     "text": [
      "enter your phone number 455666\n"
     ]
    },
    {
     "name": "stdout",
     "output_type": "stream",
     "text": [
      "1-mobile phone\n",
      "2-headphones\n",
      "3-clothes\n",
      "4-watches\n"
     ]
    },
    {
     "name": "stdin",
     "output_type": "stream",
     "text": [
      "Enter your choice:  2\n"
     ]
    },
    {
     "name": "stdout",
     "output_type": "stream",
     "text": [
      "you selected headphones - price:12,000\n"
     ]
    }
   ],
   "source": [
    "print(\"welcome to e-cart\")\n",
    "number = input(\"enter your phone number\")\n",
    "print(\"1-mobile phone\")\n",
    "print(\"2-headphones\")\n",
    "print(\"3-clothes\")\n",
    "print(\"4-watches\")\n",
    "choice = int(input(\"Enter your choice: \"))\n",
    "match choice:\n",
    "    case 1:\n",
    "        print (\" you selected mobile phone - price:80,000\")\n",
    "    case 2:\n",
    "        print (\"you selected headphones - price:12,000\")\n",
    "    case 3:\n",
    "        print(\"you selected clothes - price:3,000\")\n",
    "    case 4:\n",
    "        print(\"you selected watches - price:67,000\")\n",
    "    case _:\n",
    "        print(\"invalid choice! pls select between 1 to 4\")\n",
    "        "
   ]
  },
  {
   "cell_type": "code",
   "execution_count": null,
   "id": "d83050db-b364-4bd0-8835-195a4b990026",
   "metadata": {},
   "outputs": [],
   "source": []
  }
 ],
 "metadata": {
  "kernelspec": {
   "display_name": "Python 3 (ipykernel)",
   "language": "python",
   "name": "python3"
  },
  "language_info": {
   "codemirror_mode": {
    "name": "ipython",
    "version": 3
   },
   "file_extension": ".py",
   "mimetype": "text/x-python",
   "name": "python",
   "nbconvert_exporter": "python",
   "pygments_lexer": "ipython3",
   "version": "3.13.7"
  }
 },
 "nbformat": 4,
 "nbformat_minor": 5
}
