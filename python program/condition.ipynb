{
 "cells": [
  {
   "cell_type": "code",
   "execution_count": 3,
   "id": "ee294c40-2d42-4585-9ef8-cabe21e56fc5",
   "metadata": {},
   "outputs": [
    {
     "name": "stdin",
     "output_type": "stream",
     "text": [
      "Enter your age:  78\n"
     ]
    },
    {
     "name": "stdout",
     "output_type": "stream",
     "text": [
      "Adult Ticket Price = ₹200\n"
     ]
    }
   ],
   "source": [
    "age = int(input(\"Enter your age: \"))\n",
    "\n",
    "if age < 5:\n",
    "    print(\"No ticket required (Below 5 years).\")\n",
    "elif age < 18:\n",
    "    print(\"Child Ticket Price = ₹100\")\n",
    "else:\n",
    "    print(\"Adult Ticket Price = ₹200\")"
   ]
  },
  {
   "cell_type": "code",
   "execution_count": 4,
   "id": "3567b6ef-e9fb-443f-a9fa-75d16d17676f",
   "metadata": {},
   "outputs": [
    {
     "name": "stdout",
     "output_type": "stream",
     "text": [
      "🏰 Welcome to Mysore Tourist Guide 🏰\n",
      "Places you can visit:\n",
      "1. Mysore Palace\n",
      "2. Brindavan Gardens\n",
      "3. Chamundi Hills\n",
      "4. Mysore Zoo\n"
     ]
    },
    {
     "name": "stdin",
     "output_type": "stream",
     "text": [
      "Enter the number of the place you want to know about:  2\n"
     ]
    },
    {
     "name": "stdout",
     "output_type": "stream",
     "text": [
      "Brindavan Gardens: Famous for its musical fountain and beautiful garden.\n"
     ]
    }
   ],
   "source": [
    "### print(\"🏰 Welcome to Mysore Tourist Guide 🏰\")\n",
    "print(\"Places you can visit:\")\n",
    "print(\"1. Mysore Palace\")\n",
    "print(\"2. Brindavan Gardens\")\n",
    "print(\"3. Chamundi Hills\")\n",
    "print(\"4. Mysore Zoo\")\n",
    "\n",
    "choice = int(input(\"Enter the number of the place you want to know about: \"))\n",
    "\n",
    "if choice == 1:\n",
    "    print(\"Mysore Palace: A historical palace and the royal residence of the Wadiyar dynasty.\")\n",
    "elif choice == 2:\n",
    "    print(\"Brindavan Gardens: Famous for its musical fountain and beautiful garden.\")\n",
    "elif choice == 3:\n",
    "    print(\"Chamundi Hills: A hill with the famous Chamundeshwari Temple and panoramic view of Mysore.\")\n",
    "elif choice == 4:\n",
    "    print(\"Mysore Zoo: One of the oldest and most famous zoos in India, with many rare animals.\")\n",
    "else:\n",
    "    print(\"Invalid choice! Please select between 1 to 4.\")"
   ]
  },
  {
   "cell_type": "code",
   "execution_count": 16,
   "id": "2a14fcc1-f388-4225-82ed-82dd262a8aa9",
   "metadata": {},
   "outputs": [
    {
     "name": "stdout",
     "output_type": "stream",
     "text": [
      "1\n",
      "6\n",
      "11\n"
     ]
    }
   ],
   "source": [
    "def print_numbers(n):\n",
    "    if n <= 15:    \n",
    "        print(n)\n",
    "        print_numbers(n + 5)  \n",
    "\n",
    "print_numbers(1)"
   ]
  },
  {
   "cell_type": "code",
   "execution_count": 15,
   "id": "9fa775ec-683c-45d0-8990-9e351ad522b8",
   "metadata": {},
   "outputs": [
    {
     "name": "stdout",
     "output_type": "stream",
     "text": [
      "🚖 Welcome to Auto Ride Booking 🚖\n"
     ]
    },
    {
     "name": "stdin",
     "output_type": "stream",
     "text": [
      "Enter distance in km:  23\n"
     ]
    },
    {
     "name": "stdout",
     "output_type": "stream",
     "text": [
      "Discounted fare for long distance applied.\n",
      "Total Fare: ₹184\n",
      "✅ Ride booked successfully! Have a safe journey.\n"
     ]
    }
   ],
   "source": [
    "print(\"🚖 Welcome to Auto Ride Booking 🚖\")\n",
    "\n",
    "distance = int(input(\"Enter distance in km: \"))\n",
    "\n",
    "if distance <= 2:\n",
    "    fare = 30\n",
    "    print(\"Minimum fare applied.\")\n",
    "elif distance <= 10:\n",
    "    fare = distance * 10\n",
    "    print(\"Standard fare applied.\")\n",
    "else:\n",
    "    fare = distance * 8\n",
    "    print(\"Discounted fare for long distance applied.\")\n",
    "\n",
    "print(f\"Total Fare: ₹{fare}\")\n",
    "print(\"✅ Ride booked successfully! Have a safe journey.\")"
   ]
  },
  {
   "cell_type": "code",
   "execution_count": null,
   "id": "bed1bb2a-8940-4187-b5b2-42ac2dee2719",
   "metadata": {},
   "outputs": [],
   "source": []
  },
  {
   "cell_type": "code",
   "execution_count": null,
   "id": "78c9f52c-a690-472d-aedc-29da73b9f512",
   "metadata": {},
   "outputs": [],
   "source": []
  }
 ],
 "metadata": {
  "kernelspec": {
   "display_name": "Python 3 (ipykernel)",
   "language": "python",
   "name": "python3"
  },
  "language_info": {
   "codemirror_mode": {
    "name": "ipython",
    "version": 3
   },
   "file_extension": ".py",
   "mimetype": "text/x-python",
   "name": "python",
   "nbconvert_exporter": "python",
   "pygments_lexer": "ipython3",
   "version": "3.13.7"
  }
 },
 "nbformat": 4,
 "nbformat_minor": 5
}
