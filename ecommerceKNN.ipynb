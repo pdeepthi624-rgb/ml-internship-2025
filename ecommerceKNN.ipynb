{
 "cells": [
  {
   "cell_type": "code",
   "execution_count": 1,
   "id": "618d4f8e-e6f8-4340-8422-d76add795a10",
   "metadata": {},
   "outputs": [
    {
     "name": "stdout",
     "output_type": "stream",
     "text": [
      "    Age  Annual_Income Purchased\n",
      "0    22          25000        No\n",
      "1    25          27000        No\n",
      "2    47          48000       Yes\n",
      "3    52          60000       Yes\n",
      "4    46          52000       Yes\n",
      "5    56          80000       Yes\n",
      "6    55          75000       Yes\n",
      "7    60          90000       Yes\n",
      "8    19          20000        No\n",
      "9    23          30000        No\n",
      "10   48          50000       Yes\n",
      "11   33          40000        No\n",
      "12   35          42000        No\n"
     ]
    }
   ],
   "source": [
    "import pandas as pd\n",
    "from sklearn.model_selection import train_test_split\n",
    "from sklearn.neighbors import KNeighborsClassifier\n",
    "from sklearn.metrics import accuracy_score, confusion_matrix\n",
    "\n",
    "# Sample dataset (Age, Income → Purchase)\n",
    "data = {\n",
    "    'Age': [22, 25, 47, 52, 46, 56, 55, 60, 19, 23, 48, 33, 35],\n",
    "    'Annual_Income': [25000, 27000, 48000, 60000, 52000, 80000, 75000, 90000, 20000, 30000, 50000, 40000, 42000],\n",
    "    'Purchased': ['No', 'No', 'Yes', 'Yes', 'Yes', 'Yes', 'Yes', 'Yes', 'No', 'No', 'Yes', 'No', 'No']\n",
    "}\n",
    "\n",
    "df = pd.DataFrame(data)\n",
    "print(df)\n"
   ]
  },
  {
   "cell_type": "code",
   "execution_count": 3,
   "id": "c85f0138-b264-4b0f-9221-4195dcfa36dc",
   "metadata": {},
   "outputs": [],
   "source": [
    "X = df[['Age', 'Annual_Income']]\n",
    "y = df['Purchased']\n",
    "\n",
    "# Train-test split (70% train, 30% test)\n",
    "X_train, X_test, y_train, y_test = train_test_split(X, y, test_size=0.3, random_state=42)\n"
   ]
  },
  {
   "cell_type": "code",
   "execution_count": 4,
   "id": "4d4e0b7b-d1b6-41c2-9f31-f942411a8d4c",
   "metadata": {},
   "outputs": [],
   "source": [
    "# Create KNN model with k=3\n",
    "knn = KNeighborsClassifier(n_neighbors=3)\n",
    "\n",
    "# Train the model\n",
    "knn.fit(X_train, y_train)\n",
    "\n",
    "# Predictions\n",
    "y_pred = knn.predict(X_test)\n"
   ]
  },
  {
   "cell_type": "code",
   "execution_count": 5,
   "id": "a18558ca-15aa-4e47-a68c-2f7e6d941e8f",
   "metadata": {},
   "outputs": [
    {
     "ename": "NameError",
     "evalue": "name 'CustomerID' is not defined",
     "output_type": "error",
     "traceback": [
      "\u001b[31m---------------------------------------------------------------------------\u001b[39m",
      "\u001b[31mNameError\u001b[39m                                 Traceback (most recent call last)",
      "\u001b[36mCell\u001b[39m\u001b[36m \u001b[39m\u001b[32mIn[5]\u001b[39m\u001b[32m, line 1\u001b[39m\n\u001b[32m----> \u001b[39m\u001b[32m1\u001b[39m \u001b[43mCustomerID\u001b[49m,Age,Annual_Income,Purchased\n\u001b[32m      2\u001b[39m \u001b[32m1\u001b[39m,\u001b[32m22\u001b[39m,\u001b[32m25000\u001b[39m,No\n\u001b[32m      3\u001b[39m \u001b[32m2\u001b[39m,\u001b[32m25\u001b[39m,\u001b[32m27000\u001b[39m,No\n",
      "\u001b[31mNameError\u001b[39m: name 'CustomerID' is not defined"
     ]
    }
   ],
   "source": [
    "CustomerID,Age,Annual_Income,Purchased\n",
    "1,22,25000,No\n",
    "2,25,27000,No\n",
    "3,47,48000,Yes\n",
    "4,52,60000,Yes\n",
    "5,46,52000,Yes\n",
    "6,56,80000,Yes\n",
    "7,55,75000,Yes\n",
    "8,60,90000,Yes\n",
    "9,19,20000,No\n",
    "10,23,30000,No\n",
    "11,48,50000,Yes\n",
    "12,33,40000,No\n",
    "13,35,42000,No\n",
    "14,40,61000,Yes\n",
    "15,29,33000,No\n"
   ]
  },
  {
   "cell_type": "code",
   "execution_count": null,
   "id": "f1f576df-26f4-4941-a984-44f33f8eb7dd",
   "metadata": {},
   "outputs": [],
   "source": []
  }
 ],
 "metadata": {
  "kernelspec": {
   "display_name": "Python 3 (ipykernel)",
   "language": "python",
   "name": "python3"
  },
  "language_info": {
   "codemirror_mode": {
    "name": "ipython",
    "version": 3
   },
   "file_extension": ".py",
   "mimetype": "text/x-python",
   "name": "python",
   "nbconvert_exporter": "python",
   "pygments_lexer": "ipython3",
   "version": "3.13.7"
  }
 },
 "nbformat": 4,
 "nbformat_minor": 5
}
