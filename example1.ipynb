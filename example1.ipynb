{
 "cells": [
  {
   "cell_type": "code",
   "execution_count": 3,
   "id": "ec815ab5-4110-473d-a42e-4ae1ac6e9d6f",
   "metadata": {},
   "outputs": [
    {
     "name": "stdout",
     "output_type": "stream",
     "text": [
      "Student Marks Data:\n",
      "\n",
      "  Student  Marks\n",
      "0   Rahul     35\n",
      "1   Anita     78\n",
      "2   Kiran     52\n",
      "3   Sneha     90\n",
      "4   Manoj     40\n",
      "5   Priya     65\n",
      "6  Vikram     25\n",
      "7   Divya     85\n",
      "8    Ravi     55\n",
      "9   Meena     30\n",
      "\n",
      "Statistics Summary:\n",
      "\n",
      "count    10.00000\n",
      "mean     55.50000\n",
      "std      23.35832\n",
      "min      25.00000\n",
      "25%      36.25000\n",
      "50%      53.50000\n",
      "75%      74.75000\n",
      "max      90.00000\n",
      "Name: Marks, dtype: float64\n",
      "\n",
      "Extra Info:\n",
      "Total Students: 10\n",
      "Highest Marks: 90\n",
      "Lowest Marks: 25\n",
      "Average Marks: 55.5\n",
      "Standard Deviation: 23.35831995480649\n",
      "Median Marks: 53.5\n",
      "\n",
      "Topper: Sneha with 90 marks\n",
      "Lowest Scorer: Vikram with 25 marks\n"
     ]
    }
   ],
   "source": [
    "import pandas as pd\n",
    "\n",
    "# Step 1: Load CSV\n",
    "df = pd.read_csv(\"student_marks.csv\")\n",
    "\n",
    "# Step 2: Show dataset\n",
    "print(\"Student Marks Data:\\n\")\n",
    "print(df)\n",
    "\n",
    "# Step 3: Show statistics\n",
    "print(\"\\nStatistics Summary:\\n\")\n",
    "print(df[\"Marks\"].describe())\n",
    "\n",
    "# Step 4: Extra statistics\n",
    "print(\"\\nExtra Info:\")\n",
    "print(\"Total Students:\", df[\"Student\"].count())\n",
    "print(\"Highest Marks:\", df[\"Marks\"].max())\n",
    "print(\"Lowest Marks:\", df[\"Marks\"].min())\n",
    "print(\"Average Marks:\", df[\"Marks\"].mean())\n",
    "print(\"Standard Deviation:\", df[\"Marks\"].std())\n",
    "print(\"Median Marks:\", df[\"Marks\"].median())\n",
    "\n",
    "# Step 5: Who scored highest?\n",
    "top_student = df.loc[df[\"Marks\"].idxmax()]\n",
    "print(\"\\nTopper:\", top_student[\"Student\"], \"with\", top_student[\"Marks\"], \"marks\")\n",
    "\n",
    "# Step 6: Who scored lowest?\n",
    "low_student = df.loc[df[\"Marks\"].idxmin()]\n",
    "print(\"Lowest Scorer:\", low_student[\"Student\"], \"with\", low_student[\"Marks\"], \"marks\")\n"
   ]
  },
  {
   "cell_type": "code",
   "execution_count": null,
   "id": "897efbf3-6dfe-44fa-b601-71f4380541ad",
   "metadata": {},
   "outputs": [],
   "source": []
  },
  {
   "cell_type": "code",
   "execution_count": null,
   "id": "a0da888b-3c0f-4df5-a4fa-a69cadc6442e",
   "metadata": {},
   "outputs": [],
   "source": []
  },
  {
   "cell_type": "code",
   "execution_count": null,
   "id": "05b7bdf5-9400-4c86-b42d-9d0a259e5cf6",
   "metadata": {},
   "outputs": [],
   "source": []
  },
  {
   "cell_type": "code",
   "execution_count": null,
   "id": "7cc66850-5490-4b25-86d7-1c97f96d61d9",
   "metadata": {},
   "outputs": [],
   "source": []
  }
 ],
 "metadata": {
  "kernelspec": {
   "display_name": "Python 3 (ipykernel)",
   "language": "python",
   "name": "python3"
  },
  "language_info": {
   "codemirror_mode": {
    "name": "ipython",
    "version": 3
   },
   "file_extension": ".py",
   "mimetype": "text/x-python",
   "name": "python",
   "nbconvert_exporter": "python",
   "pygments_lexer": "ipython3",
   "version": "3.13.7"
  }
 },
 "nbformat": 4,
 "nbformat_minor": 5
}
